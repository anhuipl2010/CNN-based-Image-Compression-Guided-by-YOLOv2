{
 "cells": [
  {
   "cell_type": "code",
   "execution_count": 6,
   "metadata": {
    "collapsed": true
   },
   "outputs": [],
   "source": [
    "import caffe\n",
    "import numpy as np\n",
    "import matplotlib.pyplot as plt\n",
    "\n",
    "%matplotlib inline\n",
    "\n",
    "caffe.set_device(0)\n",
    "caffe.set_mode_gpu()\n",
    "\n",
    "import cv2\n",
    "\n",
    "from math import ceil,log10\n",
    "from __future__ import division  # py2\n",
    "from __future__ import print_function"
   ]
  },
  {
   "cell_type": "code",
   "execution_count": 7,
   "metadata": {
    "collapsed": true
   },
   "outputs": [],
   "source": [
    "n_is_64 = True"
   ]
  },
  {
   "cell_type": "code",
   "execution_count": 9,
   "metadata": {
    "collapsed": true
   },
   "outputs": [],
   "source": [
    "# model_prototxt = 'nets/compress_v{}_exp6.prototxt'.format(1 if n_is_64 else 2) # v1 for n=64, v2 for n=128 \n",
    "model_prototxt = 'nets/compress_v{}.prototxt'.format(1 if n_is_64 else 2) # v1 for n=64, v2 for n=128 "
   ]
  },
  {
   "cell_type": "code",
   "execution_count": 4,
   "metadata": {
    "collapsed": true
   },
   "outputs": [],
   "source": [
    "# model_prototxt = 'nets/compress_v1_test_caffe_crop.prototxt'"
   ]
  },
  {
   "cell_type": "code",
   "execution_count": 9,
   "metadata": {
    "collapsed": true
   },
   "outputs": [],
   "source": [
    "custom_test_imgs_filelist = \"ctifl.txt\"  # Kodak images"
   ]
  },
  {
   "cell_type": "code",
   "execution_count": 10,
   "metadata": {
    "collapsed": true
   },
   "outputs": [],
   "source": [
    "def revert_to_img(dec_img):\n",
    "    dec_img = np.clip(dec_img.data[0]*127.5+127.5, 0, 255)\n",
    "    dec_img = cv2.cvtColor(np.moveaxis(dec_img, 0, -1), cv2.COLOR_BGR2RGB)\n",
    "    return dec_img.astype(np.uint8)"
   ]
  },
  {
   "cell_type": "markdown",
   "metadata": {},
   "source": [
    "#### For evaluate psnr of Kodak"
   ]
  },
  {
   "cell_type": "code",
   "execution_count": 11,
   "metadata": {
    "scrolled": true
   },
   "outputs": [
    {
     "name": "stdout",
     "output_type": "stream",
     "text": [
      "total imgs_nums = 23. \n",
      "Evaluating model 5.\n",
      " 1425.151553/0.339828 \n",
      " psnr = 33.940022 \n",
      "==========\n",
      "Evaluating model 6.\n",
      " 1350.446408/0.395653 \n",
      " psnr = 34.134717 \n",
      "==========\n"
     ]
    }
   ],
   "source": [
    "model_nums = 4 if n_is_64 else 6\n",
    "start_id = 0 if n_is_64 else 4\n",
    "imgs_num = len(open(custom_test_imgs_filelist).readlines())\n",
    "print ('total imgs_nums = %d. ' % imgs_num)\n",
    "calc_psnr = lambda x,y: 10 * log10(255.0**2/(np.mean(np.square(y-x))))\n",
    "\n",
    "\n",
    "for model_id in range(start_id, model_nums):\n",
    "    model_id += 1\n",
    "    print ('Evaluating model %d.' % model_id)\n",
    "    model_weights = 'ckpts/%d.caffemodel' % model_id\n",
    "    net = caffe.Net(model_prototxt, caffe.TEST, stages=['custom'], weights=model_weights)\n",
    "    batch_size = 1\n",
    "    iters_num = int(ceil(imgs_num / batch_size))\n",
    "    mse_loss = 0\n",
    "    rate_disp = 0\n",
    "    psnr = 0\n",
    "    for it in range(iters_num):\n",
    "        net.forward()\n",
    "        mse_loss += float(net.blobs['loss'].data) / iters_num\n",
    "        rate_disp += float(net.params['imap'][0].data) / iters_num\n",
    "\n",
    "        o_img = revert_to_img(net.blobs['data'])\n",
    "        d_img = revert_to_img(net.blobs['pdata'])\n",
    "        psnr += calc_psnr(o_img, d_img) / iters_num\n",
    "\n",
    "    print (' %f/%f ' % (mse_loss, rate_disp))\n",
    "    print (' psnr = %f ' % (psnr,))\n",
    "    print ('=' * 10)\n",
    "    "
   ]
  },
  {
   "cell_type": "markdown",
   "metadata": {},
   "source": [
    "#### caffe mse loss & rate on KITTI val/test subset"
   ]
  },
  {
   "cell_type": "code",
   "execution_count": 10,
   "metadata": {},
   "outputs": [
    {
     "name": "stdout",
     "output_type": "stream",
     "text": [
      "Evaluating model 1.\n",
      " 582.830076/0.188000 \n",
      "==========\n",
      " 591.597566/0.189805 \n",
      "==========\n",
      "Evaluating model 2.\n",
      " 510.373779/0.257809 \n",
      "==========\n",
      " 519.832220/0.260280 \n",
      "==========\n",
      "Evaluating model 3.\n",
      " 396.082002/0.428965 \n",
      "==========\n",
      " 402.839909/0.432637 \n",
      "==========\n",
      "Evaluating model 4.\n",
      " 370.835725/0.663635 \n",
      "==========\n",
      " 377.765991/0.658786 \n",
      "==========\n"
     ]
    }
   ],
   "source": [
    "model_nums = 4 if n_is_64 else 6\n",
    "start_id = 0 if n_is_64 else 4\n",
    "\n",
    "for model_id in range(start_id, model_nums):\n",
    "    model_id += 1\n",
    "    print ('Evaluating model %d.' % model_id)\n",
    "    model_weights = 'ckpts/%d.caffemodel' % model_id\n",
    "    for val_mode in [True, False]:\n",
    "        net = caffe.Net(model_prototxt, caffe.TEST, stages=['val'] if val_mode else [], weights=model_weights)\n",
    "        imgs_num = 240 if val_mode else 241\n",
    "        batch_size = 1\n",
    "        iters_num = int(ceil(imgs_num / batch_size))\n",
    "        mse_loss = 0\n",
    "        rate_disp = 0\n",
    "        for it in range(iters_num):\n",
    "            net.forward()\n",
    "            mse_loss += float(net.blobs['loss'].data) / iters_num\n",
    "            rate_disp += float(net.params['imap'][0].data) / iters_num\n",
    "        print (' %f/%f ' % (mse_loss, rate_disp))\n",
    "        print ('=' * 10)\n",
    "    "
   ]
  },
  {
   "cell_type": "code",
   "execution_count": 6,
   "metadata": {
    "collapsed": true
   },
   "outputs": [],
   "source": [
    "model_weights = 'ckpts/1.caffemodel'"
   ]
  },
  {
   "cell_type": "code",
   "execution_count": 7,
   "metadata": {
    "collapsed": true
   },
   "outputs": [],
   "source": [
    "val_mode = True  # True for val, False for test"
   ]
  },
  {
   "cell_type": "code",
   "execution_count": 8,
   "metadata": {
    "collapsed": true
   },
   "outputs": [],
   "source": [
    "net = caffe.Net(model_prototxt, caffe.TEST, stages=['val'] if val_mode else [], weights=model_weights)"
   ]
  },
  {
   "cell_type": "code",
   "execution_count": 9,
   "metadata": {
    "collapsed": true
   },
   "outputs": [],
   "source": [
    "imgs_num = 240 if val_mode else 241"
   ]
  },
  {
   "cell_type": "code",
   "execution_count": 10,
   "metadata": {
    "collapsed": true
   },
   "outputs": [],
   "source": [
    "batch_size = 1"
   ]
  },
  {
   "cell_type": "code",
   "execution_count": 11,
   "metadata": {
    "collapsed": true
   },
   "outputs": [],
   "source": [
    "iters_num = int(ceil(imgs_num / batch_size))"
   ]
  },
  {
   "cell_type": "code",
   "execution_count": 12,
   "metadata": {
    "collapsed": true
   },
   "outputs": [],
   "source": [
    "mse_loss = 0\n",
    "rate_disp = 0"
   ]
  },
  {
   "cell_type": "code",
   "execution_count": 14,
   "metadata": {},
   "outputs": [
    {
     "data": {
      "text/plain": [
       "{'loss': array(500.8824157714844, dtype=float32)}"
      ]
     },
     "execution_count": 14,
     "metadata": {},
     "output_type": "execute_result"
    }
   ],
   "source": [
    "# net.forward()\n",
    "# 943.6048583984375 val 验证是否确实完成一轮 epoch\n",
    "\n",
    "# 500.8824157714844 test"
   ]
  },
  {
   "cell_type": "code",
   "execution_count": 17,
   "metadata": {
    "collapsed": true
   },
   "outputs": [],
   "source": [
    "for it in range(iters_num-4):\n",
    "#     print ('Iter %d' % it)\n",
    "    net.forward()\n",
    "    mse_loss += float(net.blobs['loss'].data) / iters_num\n",
    "    rate_disp += float(net.params['imap'][0].data) / iters_num"
   ]
  },
  {
   "cell_type": "code",
   "execution_count": 13,
   "metadata": {},
   "outputs": [
    {
     "name": "stdout",
     "output_type": "stream",
     "text": [
      "mse loss = 591.597566, rate_disp = 0.189805\n",
      " 591.597566/0.189805 \n"
     ]
    }
   ],
   "source": [
    "print ('mse loss = %f, rate_disp = %f' % (mse_loss, rate_disp))\n",
    "print (' %f/%f ' % (mse_loss, rate_disp))"
   ]
  },
  {
   "cell_type": "markdown",
   "metadata": {},
   "source": [
    "<h4> 测试caffe python接口的backward()是否会更新参数(<font style=\"color:red\">不会</font>)，以及是否会累积梯度(<font style=\"color:red\">会</font>)</h4>"
   ]
  },
  {
   "cell_type": "code",
   "execution_count": 41,
   "metadata": {},
   "outputs": [
    {
     "data": {
      "text/plain": [
       "{'loss': array(699.9473266601562, dtype=float32)}"
      ]
     },
     "execution_count": 41,
     "metadata": {},
     "output_type": "execute_result"
    }
   ],
   "source": [
    "net.forward()"
   ]
  },
  {
   "cell_type": "code",
   "execution_count": 13,
   "metadata": {},
   "outputs": [
    {
     "data": {
      "text/plain": [
       "{}"
      ]
     },
     "execution_count": 13,
     "metadata": {},
     "output_type": "execute_result"
    }
   ],
   "source": [
    "net.backward()"
   ]
  },
  {
   "cell_type": "code",
   "execution_count": 49,
   "metadata": {},
   "outputs": [
    {
     "name": "stdout",
     "output_type": "stream",
     "text": [
      "conv1\t(128, 3, 8, 8) (128,)\n",
      "blk1_branch2b\t(128, 128, 3, 3) (128,)\n",
      "blk1_branch2c\t(128, 128, 3, 3) (128,)\n",
      "conv2\t(256, 128, 4, 4) (256,)\n",
      "blk2_branch2b\t(128, 256, 3, 3) (128,)\n",
      "blk2_branch2c\t(256, 128, 3, 3) (256,)\n",
      "conv3\t(256, 256, 3, 3) (256,)\n",
      "blk3_branch2b\t(128, 256, 3, 3) (128,)\n",
      "blk3_branch2c\t(256, 128, 3, 3) (256,)\n",
      "conv4\t(64, 256, 1, 1) (64,)\n",
      "mgdata\t(1, 1, 1, 1) \n",
      "imp_conv1\t(128, 256, 3, 3) (128,)\n",
      "imp_conv2\t(1, 128, 1, 1) (1,)\n",
      "imap\t(1, 1, 1, 1) \n",
      "inv_conv1\t(512, 64, 3, 3) (512,)\n",
      "blk4_branch2b\t(128, 512, 3, 3) (128,)\n",
      "blk4_branch2c\t(512, 128, 3, 3) (512,)\n",
      "inv_conv2\t(512, 512, 3, 3) (512,)\n",
      "blk5_branch2b\t(128, 512, 3, 3) (128,)\n",
      "blk5_branch2c\t(512, 128, 3, 3) (512,)\n",
      "inv_conv3\t(256, 128, 3, 3) (256,)\n",
      "blk6_branch2b\t(128, 256, 3, 3) (128,)\n",
      "blk6_branch2c\t(256, 128, 3, 3) (256,)\n",
      "inv_conv4\t(32, 16, 3, 3) (32,)\n",
      "pdata\t(3, 32, 1, 1) (3,)\n"
     ]
    }
   ],
   "source": [
    "for layer_name, param in net.params.items():\n",
    "#     print (param)\n",
    "    print (layer_name + '\\t' + str(param[0].data.shape), str(param[1].data.shape) if len(param)>1 else \"\")"
   ]
  },
  {
   "cell_type": "code",
   "execution_count": null,
   "metadata": {
    "collapsed": true
   },
   "outputs": [],
   "source": [
    "net.params['conv1'][0].data"
   ]
  },
  {
   "cell_type": "code",
   "execution_count": 45,
   "metadata": {
    "collapsed": true
   },
   "outputs": [],
   "source": [
    "net.params['conv1'][0].diff[...]=0"
   ]
  },
  {
   "cell_type": "code",
   "execution_count": null,
   "metadata": {
    "collapsed": true,
    "scrolled": true
   },
   "outputs": [],
   "source": [
    "net.params['conv1'][0].diff"
   ]
  }
 ],
 "metadata": {
  "kernelspec": {
   "display_name": "Python 2",
   "language": "python",
   "name": "python2"
  },
  "language_info": {
   "codemirror_mode": {
    "name": "ipython",
    "version": 2
   },
   "file_extension": ".py",
   "mimetype": "text/x-python",
   "name": "python",
   "nbconvert_exporter": "python",
   "pygments_lexer": "ipython2",
   "version": "2.7.12"
  }
 },
 "nbformat": 4,
 "nbformat_minor": 2
}
